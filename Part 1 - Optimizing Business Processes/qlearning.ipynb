{
  "cells": [
    {
      "cell_type": "markdown",
      "metadata": {
        "colab_type": "text",
        "id": "ETcU-UCdX2CR"
      },
      "source": [
        "# Inteligencia Artificial Aplicada a Negocios y Empresas\n",
        "# Parte 1 - Optimizacion de los flujos de trabajo en un almacen con Q-Learning\n"
      ]
    },
    {
      "cell_type": "markdown",
      "metadata": {
        "colab_type": "text",
        "id": "-cwBWjRCYAYs"
      },
      "source": [
        "## Importacion de las librerias\n"
      ]
    },
    {
      "cell_type": "code",
      "execution_count": 12,
      "metadata": {
        "colab": {},
        "colab_type": "code",
        "id": "wp02vLlRX8id"
      },
      "outputs": [],
      "source": [
        "import numpy as np"
      ]
    },
    {
      "cell_type": "markdown",
      "metadata": {
        "colab_type": "text",
        "id": "aMd-Oz6kYMrZ"
      },
      "source": [
        "## Configuracion de los parametros gamma y alpha para el algoritmo de Q-Learning\n"
      ]
    },
    {
      "cell_type": "code",
      "execution_count": 13,
      "metadata": {
        "colab": {},
        "colab_type": "code",
        "id": "iLlhMXG4YR02"
      },
      "outputs": [],
      "source": [
        "#factor de descuento, este tiene más impacto en el algoritmo. \n",
        "gamma = 0.75\n",
        "#El alpha tiene más que ver con el tiempo que tarda en converger. Si es un numero muy alto puede converger en un mínimo local\n",
        "#el alpha indica como de rápido debe de incorporarse el aprendizaje. \n",
        "alpha = 0.9"
      ]
    },
    {
      "cell_type": "markdown",
      "metadata": {
        "colab_type": "text",
        "id": "U7EQfwzUYWwO"
      },
      "source": [
        "# PARTE 1 - DEFINICION DEL ENTORNO\n"
      ]
    },
    {
      "cell_type": "markdown",
      "metadata": {
        "colab_type": "text",
        "id": "CLupkEwyYZFp"
      },
      "source": [
        "## Definicion de los estados\n"
      ]
    },
    {
      "cell_type": "code",
      "execution_count": 16,
      "metadata": {
        "colab": {},
        "colab_type": "code",
        "id": "fatEIa4SYbtj"
      },
      "outputs": [],
      "source": [
        "#Traduccion de estados a números\n",
        "location_to_state = {'A': 0,\n",
        "                     'B': 1,\n",
        "                     'C': 2,\n",
        "                     'D': 3,\n",
        "                     'E': 4,\n",
        "                     'F': 5,\n",
        "                     'G': 6, \n",
        "                     'H': 7, \n",
        "                     'I': 8,\n",
        "                     'J': 9,\n",
        "                     'K': 10,\n",
        "                     'L': 11}"
      ]
    },
    {
      "cell_type": "code",
      "execution_count": 17,
      "metadata": {},
      "outputs": [],
      "source": [
        "#Prioridad de estados\n",
        "prioridad = {1: 'G',\n",
        "                     2: 'K',\n",
        "                     3: 'L',\n",
        "                     4: 'J',\n",
        "                     5: 'A',\n",
        "                     6: 'I',\n",
        "                     7: 'H', \n",
        "                     8: 'C', \n",
        "                     9: 'B',\n",
        "                     10: 'D',\n",
        "                     11: 'F',\n",
        "                     12: 'E'}\n",
        "\n",
        "#Primera solución \n",
        "#Si hay un punto intermedio la recompensa debería ser suculenta.\n",
        "\n",
        "#Segunda solución \n",
        "#si hay un punto intermedio por el que no queremos pasar le datos una recompensa negativa--> Dar refuerzo negativo a los puntos que no queremos\n",
        "\n",
        "#La tercera solución \n",
        "#si hay un punto interesante por el que quiero pasar pues obligar a pasar por ahi, es decir, dividir la ruta en dos partes una desde el punto inicial\n",
        "#a este punto y otro desde este punto al final. "
      ]
    },
    {
      "cell_type": "markdown",
      "metadata": {
        "colab_type": "text",
        "id": "VVGC3vOqYfde"
      },
      "source": [
        "## Definicion de las acciones"
      ]
    },
    {
      "cell_type": "code",
      "execution_count": 18,
      "metadata": {
        "colab": {},
        "colab_type": "code",
        "id": "SDoRZHA1YjIi"
      },
      "outputs": [],
      "source": [
        "actions = [0, 1, 2, 3, 4, 5, 6, 7, 8, 9, 10, 11]"
      ]
    },
    {
      "cell_type": "markdown",
      "metadata": {
        "colab_type": "text",
        "id": "KfTTQ_rpYoQr"
      },
      "source": [
        "## Definicion de las recompensas\n",
        "## Columnas:    A,B,C,D,E,F,G,H,I,J,K,L"
      ]
    },
    {
      "cell_type": "code",
      "execution_count": 20,
      "metadata": {
        "colab": {},
        "colab_type": "code",
        "id": "vt-gj-P-YuI-"
      },
      "outputs": [],
      "source": [
        "#Define en la matriz los puntos del laberinto como están conectados\n",
        "R = np.array([[0,1,0,0,0,0,0,0,0,0,0,0], # A\n",
        "              [1,0,1,0,0,1,0,0,0,0,0,0], # B\n",
        "              [0,1,0,0,0,0,1,0,0,0,0,0], # C\n",
        "              [0,0,0,0,0,0,0,1,0,0,0,0], # D\n",
        "              [0,0,0,0,0,0,0,0,1,0,0,0], # E\n",
        "              [0,1,0,0,0,0,0,0,0,1,0,0], # F\n",
        "              [0,0,1,0,0,0,1,1,0,0,0,0], # G\n",
        "              [0,0,0,1,0,0,1,0,0,0,0,1], # H\n",
        "              [0,0,0,0,1,0,0,0,0,1,0,0], # I\n",
        "              [0,0,0,0,0,1,0,0,1,0,1,0], # J\n",
        "              [0,0,0,0,0,0,0,0,0,1,0,1], # K\n",
        "              [0,0,0,0,0,0,0,1,0,0,1,0]])# L"
      ]
    },
    {
      "cell_type": "markdown",
      "metadata": {
        "colab_type": "text",
        "id": "VwM454wTYz3A"
      },
      "source": [
        "# PARTE 2 - CONSTRUCCION DE LA SOLUCION DE IA CON Q-LEARNING\n"
      ]
    },
    {
      "cell_type": "markdown",
      "metadata": {
        "colab_type": "text",
        "id": "3dXSl1flY5IY"
      },
      "source": [
        "## Transformacion inversa de estados a ubicaciones"
      ]
    },
    {
      "cell_type": "code",
      "execution_count": 24,
      "metadata": {
        "colab": {},
        "colab_type": "code",
        "id": "TOdvR6SZY8Gx"
      },
      "outputs": [],
      "source": [
        "state_to_location = {state : location for location, state in location_to_state.items()}"
      ]
    },
    {
      "cell_type": "markdown",
      "metadata": {
        "colab_type": "text",
        "id": "OV9SEnr4ZBGY"
      },
      "source": [
        "## Crear la funcion final que nos devuelva la ruta óptima"
      ]
    },
    {
      "cell_type": "code",
      "execution_count": 30,
      "metadata": {
        "colab": {},
        "colab_type": "code",
        "id": "0UBOEcrYZIUQ"
      },
      "outputs": [],
      "source": [
        "def route(starting_location, ending_location):\n",
        "    R_new = np.copy(R)\n",
        "    ending_state = location_to_state[ending_location]\n",
        "    #Damos un peso muy grande al valor final --> Para que se vaya para allá\n",
        "    R_new[ending_state, ending_state] = 1000\n",
        "    #Inicialización de los valores Q donde se guardan los estados\n",
        "    Q = np.array(np.zeros([12, 12]))\n",
        "    #Vamos a realizar 1000 iteraciones para buscar la solución\n",
        "    for i in range(1000):\n",
        "        #Cojemos un estado aleatorio de los posibles (que son 12)\n",
        "        current_state = np.random.randint(0, 12)\n",
        "        #Aqui vamos a almacenar las acciones posibles desde el estado actual\n",
        "        playable_actions = []\n",
        "        for j in range(12):\n",
        "            #Vamos a estar en un estado, o sea una fila de la matriz de acciones posibles\n",
        "            #Vamos a recorrer esa fila viendo cuales son las acciones posibles\n",
        "            if R_new[current_state, j] > 0:\n",
        "                playable_actions.append(j)\n",
        "        #Una vez buscadas las acciones posibles desde ese estado. Elegimos una de forma aleatoria        \n",
        "        next_state = np.random.choice(playable_actions)\n",
        "        #Implementamos el TD de la ecuación de Belman, next_state (es el estado actual porque el proximo estado calculado coincide con la acción actual)\n",
        "        TD = R_new[current_state, next_state] + gamma*Q[next_state, np.argmax(Q[next_state,])] - Q[current_state, next_state]\n",
        "        #finalmente actualizamos la matriz Q con lo que se ha aprendido. la nuevo Q es la anterior más el alfa por la diferencia temporal (TD)\n",
        "        Q[current_state, next_state] = Q[current_state, next_state] + alpha*TD\n",
        "    \n",
        "    route = [starting_location]\n",
        "    next_location = starting_location\n",
        "    while(next_location != ending_location):\n",
        "        #Traducimos de location a estate para ver en el estado que estamos\n",
        "        starting_state = location_to_state[starting_location]\n",
        "        #Buscamos para esa fila (estado el mejor estado)\n",
        "        next_state = np.argmax(Q[starting_state, ])\n",
        "        #Volvemos a traducir a la location\n",
        "        next_location = state_to_location[next_state]\n",
        "        route.append(next_location)\n",
        "        #Actualizamos la localizacion del robot para la proxima itereacion.\n",
        "        starting_location = next_location\n",
        "    return route"
      ]
    },
    {
      "cell_type": "code",
      "execution_count": 26,
      "metadata": {},
      "outputs": [],
      "source": [
        "def route_intermediary(starting_location, intermediary_location, ending_location):\n",
        "    R_new = np.copy(R)\n",
        "    ending_state = location_to_state[ending_location]\n",
        "    intermediary_state = location_to_state[intermediary_location]\n",
        "    #Damos un peso muy grande al valor final --> Para que se vaya para allá\n",
        "    R_new[ending_state, ending_state] = 1000\n",
        "    R_new[intermediary_state, intermediary_state] = 200\n",
        "    #Inicialización de los valores Q donde se guardan los estados\n",
        "    Q = np.array(np.zeros([12, 12]))\n",
        "    #Vamos a realizar 1000 iteraciones para buscar la solución\n",
        "    for i in range(1000):\n",
        "        #Cojemos un estado aleatorio de los posibles (que son 12)\n",
        "        current_state = np.random.randint(0, 12)\n",
        "        #Aqui vamos a almacenar las acciones posibles desde el estado actual\n",
        "        playable_actions = []\n",
        "        for j in range(12):\n",
        "            #Vamos a estar en un estado, o sea una fila de la matriz de acciones posibles\n",
        "            #Vamos a recorrer esa fila viendo cuales son las acciones posibles\n",
        "            if R_new[current_state, j] > 0:\n",
        "                playable_actions.append(j)\n",
        "        #Una vez buscadas las acciones posibles desde ese estado. Elegimos una de forma aleatoria        \n",
        "        next_state = np.random.choice(playable_actions)\n",
        "        #Implementamos el TD de la ecuación de Belman, next_state (es el estado actual porque el proximo estado calculado coincide con la acción actual)\n",
        "        TD = R_new[current_state, next_state] + gamma*Q[next_state, np.argmax(Q[next_state,])] - Q[current_state, next_state]\n",
        "        #finalmente actualizamos la matriz Q con lo que se ha aprendido. la nuevo Q es la anterior más el alfa por la diferencia temporal (TD)\n",
        "        Q[current_state, next_state] = Q[current_state, next_state] + alpha*TD\n",
        "    \n",
        "    route = [starting_location]\n",
        "    next_location = starting_location\n",
        "    while(next_location != ending_location):\n",
        "        #Traducimos de location a estate para ver en el estado que estamos\n",
        "        starting_state = location_to_state[starting_location]\n",
        "        #Buscamos para esa fila (estado el mejor estado)\n",
        "        next_state = np.argmax(Q[starting_state, ])\n",
        "        #Volvemos a traducir a la location\n",
        "        next_location = state_to_location[next_state]\n",
        "        route.append(next_location)\n",
        "        #Actualizamos la localizacion del robot para la proxima itereacion.\n",
        "        starting_location = next_location\n",
        "    return route"
      ]
    },
    {
      "cell_type": "markdown",
      "metadata": {
        "colab_type": "text",
        "id": "FsMibrlYZbNu"
      },
      "source": [
        "# PARTE 3 - PONER EL MODELO EN PRODUCCION\n"
      ]
    },
    {
      "cell_type": "code",
      "execution_count": 31,
      "metadata": {
        "colab": {
          "base_uri": "https://localhost:8080/",
          "height": 50
        },
        "colab_type": "code",
        "id": "_S3rDm2TZedT",
        "outputId": "bce233fe-6820-43e3-ad65-b2bd02fbc428"
      },
      "outputs": [
        {
          "name": "stdout",
          "output_type": "stream",
          "text": [
            "Ruta Elegida:\n",
            "['E', 'I', 'J', 'F', 'B', 'C', 'G']\n"
          ]
        }
      ],
      "source": [
        "def best_route(starting_location, intermediary_location, ending_location):\n",
        "    return route(starting_location, intermediary_location) + route(intermediary_location, ending_location)[1:]\n",
        "\n",
        "# Imprimir la ruta final\n",
        "print(\"Ruta Elegida:\")\n",
        "print(best_route('E', 'B', 'G'))"
      ]
    },
    {
      "cell_type": "code",
      "execution_count": 29,
      "metadata": {},
      "outputs": [
        {
          "ename": "KeyboardInterrupt",
          "evalue": "",
          "output_type": "error",
          "traceback": [
            "\u001b[1;31m---------------------------------------------------------------------------\u001b[0m",
            "\u001b[1;31mKeyboardInterrupt\u001b[0m                         Traceback (most recent call last)",
            "\u001b[1;32mC:\\Users\\JABENI~1\\AppData\\Local\\Temp/ipykernel_26644/3945476627.py\u001b[0m in \u001b[0;36m<module>\u001b[1;34m\u001b[0m\n\u001b[1;32m----> 1\u001b[1;33m \u001b[0mruta\u001b[0m\u001b[1;33m=\u001b[0m\u001b[0mroute_intermediary\u001b[0m\u001b[1;33m(\u001b[0m\u001b[1;34m'E'\u001b[0m\u001b[1;33m,\u001b[0m \u001b[1;34m'B'\u001b[0m\u001b[1;33m,\u001b[0m \u001b[1;34m'G'\u001b[0m\u001b[1;33m)\u001b[0m\u001b[1;33m\u001b[0m\u001b[1;33m\u001b[0m\u001b[0m\n\u001b[0m",
            "\u001b[1;32mC:\\Users\\JABENI~1\\AppData\\Local\\Temp/ipykernel_26644/2924357903.py\u001b[0m in \u001b[0;36mroute_intermediary\u001b[1;34m(starting_location, intermediary_location, ending_location)\u001b[0m\n\u001b[0;32m     32\u001b[0m         \u001b[0mstarting_state\u001b[0m \u001b[1;33m=\u001b[0m \u001b[0mlocation_to_state\u001b[0m\u001b[1;33m[\u001b[0m\u001b[0mstarting_location\u001b[0m\u001b[1;33m]\u001b[0m\u001b[1;33m\u001b[0m\u001b[1;33m\u001b[0m\u001b[0m\n\u001b[0;32m     33\u001b[0m         \u001b[1;31m#Buscamos para esa fila (estado el mejor estado)\u001b[0m\u001b[1;33m\u001b[0m\u001b[1;33m\u001b[0m\u001b[1;33m\u001b[0m\u001b[0m\n\u001b[1;32m---> 34\u001b[1;33m         \u001b[0mnext_state\u001b[0m \u001b[1;33m=\u001b[0m \u001b[0mnp\u001b[0m\u001b[1;33m.\u001b[0m\u001b[0margmax\u001b[0m\u001b[1;33m(\u001b[0m\u001b[0mQ\u001b[0m\u001b[1;33m[\u001b[0m\u001b[0mstarting_state\u001b[0m\u001b[1;33m,\u001b[0m \u001b[1;33m]\u001b[0m\u001b[1;33m)\u001b[0m\u001b[1;33m\u001b[0m\u001b[1;33m\u001b[0m\u001b[0m\n\u001b[0m\u001b[0;32m     35\u001b[0m         \u001b[1;31m#Volvemos a traducir a la location\u001b[0m\u001b[1;33m\u001b[0m\u001b[1;33m\u001b[0m\u001b[1;33m\u001b[0m\u001b[0m\n\u001b[0;32m     36\u001b[0m         \u001b[0mnext_location\u001b[0m \u001b[1;33m=\u001b[0m \u001b[0mstate_to_location\u001b[0m\u001b[1;33m[\u001b[0m\u001b[0mnext_state\u001b[0m\u001b[1;33m]\u001b[0m\u001b[1;33m\u001b[0m\u001b[1;33m\u001b[0m\u001b[0m\n",
            "\u001b[1;32m<__array_function__ internals>\u001b[0m in \u001b[0;36margmax\u001b[1;34m(*args, **kwargs)\u001b[0m\n",
            "\u001b[1;32m~\\Anaconda3\\envs\\ia\\lib\\site-packages\\numpy\\core\\fromnumeric.py\u001b[0m in \u001b[0;36margmax\u001b[1;34m(a, axis, out)\u001b[0m\n\u001b[0;32m   1193\u001b[0m \u001b[1;33m\u001b[0m\u001b[0m\n\u001b[0;32m   1194\u001b[0m     \"\"\"\n\u001b[1;32m-> 1195\u001b[1;33m     \u001b[1;32mreturn\u001b[0m \u001b[0m_wrapfunc\u001b[0m\u001b[1;33m(\u001b[0m\u001b[0ma\u001b[0m\u001b[1;33m,\u001b[0m \u001b[1;34m'argmax'\u001b[0m\u001b[1;33m,\u001b[0m \u001b[0maxis\u001b[0m\u001b[1;33m=\u001b[0m\u001b[0maxis\u001b[0m\u001b[1;33m,\u001b[0m \u001b[0mout\u001b[0m\u001b[1;33m=\u001b[0m\u001b[0mout\u001b[0m\u001b[1;33m)\u001b[0m\u001b[1;33m\u001b[0m\u001b[1;33m\u001b[0m\u001b[0m\n\u001b[0m\u001b[0;32m   1196\u001b[0m \u001b[1;33m\u001b[0m\u001b[0m\n\u001b[0;32m   1197\u001b[0m \u001b[1;33m\u001b[0m\u001b[0m\n",
            "\u001b[1;32m~\\Anaconda3\\envs\\ia\\lib\\site-packages\\numpy\\core\\fromnumeric.py\u001b[0m in \u001b[0;36m_wrapfunc\u001b[1;34m(obj, method, *args, **kwds)\u001b[0m\n\u001b[0;32m     55\u001b[0m \u001b[1;33m\u001b[0m\u001b[0m\n\u001b[0;32m     56\u001b[0m     \u001b[1;32mtry\u001b[0m\u001b[1;33m:\u001b[0m\u001b[1;33m\u001b[0m\u001b[1;33m\u001b[0m\u001b[0m\n\u001b[1;32m---> 57\u001b[1;33m         \u001b[1;32mreturn\u001b[0m \u001b[0mbound\u001b[0m\u001b[1;33m(\u001b[0m\u001b[1;33m*\u001b[0m\u001b[0margs\u001b[0m\u001b[1;33m,\u001b[0m \u001b[1;33m**\u001b[0m\u001b[0mkwds\u001b[0m\u001b[1;33m)\u001b[0m\u001b[1;33m\u001b[0m\u001b[1;33m\u001b[0m\u001b[0m\n\u001b[0m\u001b[0;32m     58\u001b[0m     \u001b[1;32mexcept\u001b[0m \u001b[0mTypeError\u001b[0m\u001b[1;33m:\u001b[0m\u001b[1;33m\u001b[0m\u001b[1;33m\u001b[0m\u001b[0m\n\u001b[0;32m     59\u001b[0m         \u001b[1;31m# A TypeError occurs if the object does have such a method in its\u001b[0m\u001b[1;33m\u001b[0m\u001b[1;33m\u001b[0m\u001b[1;33m\u001b[0m\u001b[0m\n",
            "\u001b[1;31mKeyboardInterrupt\u001b[0m: "
          ]
        }
      ],
      "source": [
        "ruta=route_intermediary('E', 'B', 'G')"
      ]
    }
  ],
  "metadata": {
    "colab": {
      "collapsed_sections": [],
      "name": "qlearning.ipynb",
      "provenance": []
    },
    "kernelspec": {
      "display_name": "Python 3",
      "name": "python3"
    },
    "language_info": {
      "codemirror_mode": {
        "name": "ipython",
        "version": 3
      },
      "file_extension": ".py",
      "mimetype": "text/x-python",
      "name": "python",
      "nbconvert_exporter": "python",
      "pygments_lexer": "ipython3",
      "version": "3.8.12"
    }
  },
  "nbformat": 4,
  "nbformat_minor": 0
}
